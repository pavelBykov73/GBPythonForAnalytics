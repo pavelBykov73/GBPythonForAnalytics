{
 "cells": [
  {
   "cell_type": "markdown",
   "id": "0cd58043-7f17-4387-8fa3-cf70756f6fbb",
   "metadata": {},
   "source": [
    "# Семинар 1. Домашнее задание.\n",
    "## Оформление\n",
    "**Оформляйте ноутбук, используя эти советы:**\n",
    "* Номер задачи - заголовок 2\n",
    "* Номер подзадачи - заголовок 3\n",
    "* Предоставленные наборы данных оформляйте, как код\n",
    "\n",
    "## Задание 2. \n",
    "**Условие.**\n",
    "На складе лежат разные фрукты в разном количестве.\n",
    "Нужно написать функцию, которая на вход принимает любое количество названий фруктов и их количество, а возвращает общее количество фруктов на складе\n"
   ]
  },
  {
   "cell_type": "code",
   "execution_count": 2,
   "id": "c13456b9-dbc8-4122-a02f-1a3ad9b93667",
   "metadata": {
    "tags": []
   },
   "outputs": [
    {
     "data": {
      "text/plain": [
       "{'Апельсины': 5, 'Мандарины': 100, 'Лимоны': 80}"
      ]
     },
     "execution_count": 2,
     "metadata": {},
     "output_type": "execute_result"
    }
   ],
   "source": [
    "dict1={\"Яблоки\":20, \"Груши\":40, \"Киви\":10}\n",
    "dict2={\"Апельсины\":5, \"Мандарины\":100, \"Лимоны\":80}\n",
    "dict1\n",
    "dict2"
   ]
  },
  {
   "cell_type": "code",
   "execution_count": 10,
   "id": "2b3c0e55-be89-4148-8aff-93abeabdef32",
   "metadata": {
    "tags": []
   },
   "outputs": [],
   "source": [
    "def sum_dict (**keywords):\n",
    "    total=0\n",
    "    for kw in keywords:\n",
    "        print(kw, \":\", keywords[kw])\n",
    "        total+=keywords[kw]\n",
    "    return total"
   ]
  },
  {
   "cell_type": "code",
   "execution_count": 13,
   "id": "a6df9197-b0d2-4800-82ae-49a1d79975e5",
   "metadata": {
    "tags": []
   },
   "outputs": [
    {
     "name": "stdout",
     "output_type": "stream",
     "text": [
      "Яблоки : 20\n",
      "Груши : 40\n",
      "Киви : 10\n",
      "Апельсины : 5\n",
      "Мандарины : 100\n",
      "Лимоны : 80\n",
      "Всего фруктов: 255\n"
     ]
    }
   ],
   "source": [
    "total = sum_dict(**(dict1 | dict2))\n",
    "print(f\"Всего фруктов: {total}\")"
   ]
  },
  {
   "cell_type": "markdown",
   "id": "31894340-040d-4e87-8598-408fbcfc5c5e",
   "metadata": {},
   "source": [
    "## Задание 3. \n",
    "**Условие.**\n",
    "Дан список с затратами на рекламу. Но в данных есть ошибки, некоторые затраты имеют отрицательную величину. Удалите такие значения из списка и посчитайте суммарные затраты\n",
    "\n",
    "Используйте list comprehensions"
   ]
  },
  {
   "cell_type": "code",
   "execution_count": 14,
   "id": "fd95d782-19e6-432f-8171-8802f14b40d7",
   "metadata": {
    "tags": []
   },
   "outputs": [
    {
     "data": {
      "text/plain": [
       "[100, 125, -90, 345, 655, -1, 0, 200]"
      ]
     },
     "execution_count": 14,
     "metadata": {},
     "output_type": "execute_result"
    }
   ],
   "source": [
    "[100, 125, -90, 345, 655, -1, 0, 200]"
   ]
  },
  {
   "cell_type": "code",
   "execution_count": 15,
   "id": "4c4c9e1b-cb41-4b9a-a98f-dce873cd8400",
   "metadata": {
    "tags": []
   },
   "outputs": [],
   "source": [
    "expenses = [100, 125, -90, 345, 655, -1, 0, 200]"
   ]
  },
  {
   "cell_type": "code",
   "execution_count": 18,
   "id": "cf5545f1-5f02-4966-ba19-3fa68cc8f7a4",
   "metadata": {
    "tags": []
   },
   "outputs": [
    {
     "data": {
      "text/plain": [
       "[100, 125, 345, 655, 0, 200]"
      ]
     },
     "execution_count": 18,
     "metadata": {},
     "output_type": "execute_result"
    }
   ],
   "source": [
    "positive_expenses = [n for n in expenses if n >= 0]\n",
    "positive_expenses"
   ]
  },
  {
   "cell_type": "code",
   "execution_count": 19,
   "id": "cc087962-2123-4c26-8b04-9e0b32f4592b",
   "metadata": {
    "tags": []
   },
   "outputs": [
    {
     "data": {
      "text/plain": [
       "1425"
      ]
     },
     "execution_count": 19,
     "metadata": {},
     "output_type": "execute_result"
    }
   ],
   "source": [
    "sum(positive_expenses)"
   ]
  },
  {
   "cell_type": "markdown",
   "id": "5241d8a8-536e-4ab9-8f26-68960936c4fd",
   "metadata": {},
   "source": [
    "## Задание 4.\n",
    "**Условие.**\n",
    "Даны два списка.\n",
    "Дата покупки\n",
    "['2021-09-14', '2021-12-15', '2021-09-08', '2021-12-05', '2021-10-09', '2021-09-30', '2021-12-22', '2021-11-29', '2021-12-24', '2021-11-26', '2021-10-27', '2021-12-18', '2021-11-09', '2021-11-23', '2021-09-27', '2021-10-02', '2021-12-27', '2021-09-20', '2021-12-13', '2021-11-01', '2021-11-09', '2021-12-06', '2021-12-08', '2021-10-09', '2021-10-31', '2021-09-30', '2021-11-09', '2021-12-13', '2021-10-26', '2021-12-09']\n",
    "Суммы покупок по датам\n",
    "[1270, 8413, 9028, 3703, 5739, 4095, 295, 4944, 5723, 3701, 4471, 651, 7037, 4274, 6275, 4988, 6930, 2971, 6592, 2004, 2822, 519, 3406, 2732, 5015, 2008, 316, 6333, 5700, 2887]"
   ]
  },
  {
   "cell_type": "code",
   "execution_count": 43,
   "id": "72cb11d6-8abe-4e8f-b32b-416d6dd4dc00",
   "metadata": {
    "tags": []
   },
   "outputs": [],
   "source": [
    "dates_str = ['2021-09-14', '2021-12-15', '2021-09-08', '2021-12-05', '2021-10-09', '2021-09-30', '2021-12-22', '2021-11-29', '2021-12-24', '2021-11-26', '2021-10-27', '2021-12-18', '2021-11-09', '2021-11-23', '2021-09-27', '2021-10-02', '2021-12-27', '2021-09-20', '2021-12-13', '2021-11-01', '2021-11-09', '2021-12-06', '2021-12-08', '2021-10-09', '2021-10-31', '2021-09-30', '2021-11-09', '2021-12-13', '2021-10-26', '2021-12-09']"
   ]
  },
  {
   "cell_type": "code",
   "execution_count": 44,
   "id": "9b3fcb0a-077c-4d1f-909e-0fb130324eb8",
   "metadata": {
    "tags": []
   },
   "outputs": [],
   "source": [
    "values = [1270, 8413, 9028, 3703, 5739, 4095, 295, 4944, 5723, 3701, 4471, 651, 7037, 4274, 6275, 4988, 6930, 2971, 6592, 2004, 2822, 519, 3406, 2732, 5015, 2008, 316, 6333, 5700, 2887]"
   ]
  },
  {
   "cell_type": "markdown",
   "id": "be39dbb1-d51d-413f-904a-718f44fc98a5",
   "metadata": {},
   "source": [
    "### 4.1\n",
    "Найдите, какая выручка у компании в ноябре\n",
    "Используйте list comprehensions"
   ]
  },
  {
   "cell_type": "markdown",
   "id": "986d90f0-6608-41b7-acd2-763e982d7d76",
   "metadata": {},
   "source": [
    "#### Решение \"длинным\" способом - последовательно"
   ]
  },
  {
   "cell_type": "code",
   "execution_count": 46,
   "id": "4f5126e0-65b3-4206-8de1-1bded887f97f",
   "metadata": {
    "tags": []
   },
   "outputs": [],
   "source": [
    "dates = [date.fromisoformat(s) for s in dates_str]"
   ]
  },
  {
   "cell_type": "code",
   "execution_count": 49,
   "id": "eacec683-5778-4375-90cf-499d8524921d",
   "metadata": {
    "tags": []
   },
   "outputs": [
    {
     "data": {
      "text/plain": [
       "[(datetime.date(2021, 9, 14), 1270),\n",
       " (datetime.date(2021, 12, 15), 8413),\n",
       " (datetime.date(2021, 9, 8), 9028),\n",
       " (datetime.date(2021, 12, 5), 3703),\n",
       " (datetime.date(2021, 10, 9), 5739),\n",
       " (datetime.date(2021, 9, 30), 4095),\n",
       " (datetime.date(2021, 12, 22), 295),\n",
       " (datetime.date(2021, 11, 29), 4944),\n",
       " (datetime.date(2021, 12, 24), 5723),\n",
       " (datetime.date(2021, 11, 26), 3701),\n",
       " (datetime.date(2021, 10, 27), 4471),\n",
       " (datetime.date(2021, 12, 18), 651),\n",
       " (datetime.date(2021, 11, 9), 7037),\n",
       " (datetime.date(2021, 11, 23), 4274),\n",
       " (datetime.date(2021, 9, 27), 6275),\n",
       " (datetime.date(2021, 10, 2), 4988),\n",
       " (datetime.date(2021, 12, 27), 6930),\n",
       " (datetime.date(2021, 9, 20), 2971),\n",
       " (datetime.date(2021, 12, 13), 6592),\n",
       " (datetime.date(2021, 11, 1), 2004),\n",
       " (datetime.date(2021, 11, 9), 2822),\n",
       " (datetime.date(2021, 12, 6), 519),\n",
       " (datetime.date(2021, 12, 8), 3406),\n",
       " (datetime.date(2021, 10, 9), 2732),\n",
       " (datetime.date(2021, 10, 31), 5015),\n",
       " (datetime.date(2021, 9, 30), 2008),\n",
       " (datetime.date(2021, 11, 9), 316),\n",
       " (datetime.date(2021, 12, 13), 6333),\n",
       " (datetime.date(2021, 10, 26), 5700),\n",
       " (datetime.date(2021, 12, 9), 2887)]"
      ]
     },
     "execution_count": 49,
     "metadata": {},
     "output_type": "execute_result"
    }
   ],
   "source": [
    "purchases = list(zip([date.fromisoformat(s) for s in dates_str], values))\n",
    "purchases"
   ]
  },
  {
   "cell_type": "code",
   "execution_count": 54,
   "id": "5caa1768-419e-460d-9aa7-aa5ad826bf37",
   "metadata": {
    "tags": []
   },
   "outputs": [
    {
     "name": "stdout",
     "output_type": "stream",
     "text": [
      "Выручка в ноябре: 25098\n"
     ]
    }
   ],
   "source": [
    "purchases_nov = sum([v for d,v in purchases if d.month == 11])\n",
    "print (\"Выручка в ноябре: \"+str(purchases_nov))"
   ]
  },
  {
   "cell_type": "markdown",
   "id": "eb6b3c5b-3c1f-4e6f-a4eb-08f2be076d22",
   "metadata": {},
   "source": [
    "#### Решение \"компактным\" способом"
   ]
  },
  {
   "cell_type": "code",
   "execution_count": 99,
   "id": "ac9f36b7-aee1-4446-8ad2-f3cf5685172e",
   "metadata": {
    "tags": []
   },
   "outputs": [
    {
     "name": "stdout",
     "output_type": "stream",
     "text": [
      "Выручка в ноябре: 25098\n"
     ]
    }
   ],
   "source": [
    "purchases_nov = sum([v for d,v in zip(dates_str, values) if date.fromisoformat(d).month == 11])\n",
    "print (\"Выручка в ноябре: \"+str(purchases_nov))"
   ]
  },
  {
   "cell_type": "markdown",
   "id": "5958ff73-2cdb-4bc8-8368-8f3ca5fd49af",
   "metadata": {},
   "source": [
    "### 4.2\n",
    "Найдите выручку компании в зависимости от месяца\n",
    "Для этого напишите функцию, которая на вход принимает список с датами и список с выручкой, а на выходе словарь, где ключи - это месяцы, а значения - это выручка.\n",
    "Используйте аннотирование типов."
   ]
  },
  {
   "cell_type": "code",
   "execution_count": 97,
   "id": "fed27656-6960-4cd2-9901-eee0e817bef0",
   "metadata": {
    "tags": []
   },
   "outputs": [],
   "source": [
    "def create_dict_month_purchases(dates:list[str], values:list[float]) ->dict[int:float]:\n",
    "    months = set([date.fromisoformat(s).month for s in dates_str])\n",
    "    val_m = []\n",
    "    for m in months:\n",
    "        val_m.append(sum([v for d,v in zip(dates, values) if date.fromisoformat(d).month == m]))\n",
    "    return dict(zip(months, val_m))"
   ]
  },
  {
   "cell_type": "code",
   "execution_count": 98,
   "id": "1575a317-7265-4727-ba8e-875e9ebcfa75",
   "metadata": {},
   "outputs": [
    {
     "data": {
      "text/plain": [
       "{9: 25647, 10: 28645, 11: 25098, 12: 45452}"
      ]
     },
     "execution_count": 98,
     "metadata": {},
     "output_type": "execute_result"
    }
   ],
   "source": [
    "create_dict_month_purchases(dates_str, values)"
   ]
  }
 ],
 "metadata": {
  "kernelspec": {
   "display_name": "Python 3 (ipykernel)",
   "language": "python",
   "name": "python3"
  },
  "language_info": {
   "codemirror_mode": {
    "name": "ipython",
    "version": 3
   },
   "file_extension": ".py",
   "mimetype": "text/x-python",
   "name": "python",
   "nbconvert_exporter": "python",
   "pygments_lexer": "ipython3",
   "version": "3.11.1"
  }
 },
 "nbformat": 4,
 "nbformat_minor": 5
}
